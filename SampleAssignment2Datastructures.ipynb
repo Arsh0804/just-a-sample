{
 "cells": [
  {
   "cell_type": "code",
   "execution_count": null,
   "id": "ca17c32f-c792-4007-bfaa-fe2c801258d4",
   "metadata": {},
   "outputs": [],
   "source": [
    "#ASSIGNMENT 2 DATA STRUCTURES ARSH VAID"
   ]
  },
  {
   "cell_type": "code",
   "execution_count": 4,
   "id": "ef6bd171-6416-4d37-a560-200b6e0b0a6a",
   "metadata": {},
   "outputs": [
    {
     "name": "stdout",
     "output_type": "stream",
     "text": [
      "Hello\n",
      "Hlo ol!\n",
      "World\n",
      "pdf\n"
     ]
    }
   ],
   "source": [
    "#1. Discuss string slicing and provide examples?\n",
    "#String slicing in Python is a technique that allows you to extract a portion of a string by specifying a range of indices. The basic syntax is string[start:stop:step], where start is the beginning index, stop is the ending index (exclusive), and step determines the stride between elements\n",
    "text = \"Hello, World!\"\n",
    "# Extract \"Hello\"\n",
    "slice1 = text[0:5]\n",
    "print(slice1)  # Output: Hello\n",
    "\n",
    "# Extract every second character\n",
    "slice4 = text[::2]\n",
    "print(slice4)  # Output: Hlo ol!\n",
    "\n",
    "# Extract \"World\" using negative indices\n",
    "slice6 = text[-6:-1]\n",
    "print(slice6)  # Output: World\n",
    "\n",
    "filename = \"document.pdf\"\n",
    "extension = filename[-3:]\n",
    "print(extension)  # Output: pdf\n",
    "\n"
   ]
  },
  {
   "cell_type": "code",
   "execution_count": 6,
   "id": "2297321d-feae-4a43-a618-6e9cbb355e97",
   "metadata": {},
   "outputs": [
    {
     "name": "stdout",
     "output_type": "stream",
     "text": [
      "apple\n"
     ]
    }
   ],
   "source": [
    "#2.Explain the key features of lists in Python?\n",
    "#Lists in Python are incredibly versatile and powerful for storing and manipulating collections of items. Here are some key features of lists:\n",
    "#1. Ordered Collection\n",
    "#Lists maintain the order of elements. Each element has a specific position, or index, starting from 0 for the first element.\n",
    "fruits = [\"apple\", \"banana\", \"cherry\"]\n",
    "print(fruits[0])  # Output: apple\n"
   ]
  },
  {
   "cell_type": "code",
   "execution_count": null,
   "id": "22b9f9f1-f60b-4599-888a-75f9fa52bbc6",
   "metadata": {},
   "outputs": [],
   "source": []
  }
 ],
 "metadata": {
  "kernelspec": {
   "display_name": "Python 3 (ipykernel)",
   "language": "python",
   "name": "python3"
  },
  "language_info": {
   "codemirror_mode": {
    "name": "ipython",
    "version": 3
   },
   "file_extension": ".py",
   "mimetype": "text/x-python",
   "name": "python",
   "nbconvert_exporter": "python",
   "pygments_lexer": "ipython3",
   "version": "3.12.4"
  }
 },
 "nbformat": 4,
 "nbformat_minor": 5
}
